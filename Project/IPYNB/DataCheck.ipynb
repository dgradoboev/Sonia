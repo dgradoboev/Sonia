{
 "cells": [
  {
   "cell_type": "code",
   "execution_count": 1,
   "metadata": {},
   "outputs": [],
   "source": [
    "import mido\n",
    "import math\n",
    "import os\n",
    "import shutil\n",
    "import time\n",
    "from timerForParsing import timeSince"
   ]
  },
  {
   "cell_type": "markdown",
   "metadata": {},
   "source": [
    "Некоторые файлы имеют неправильный формат, не содержат note_off. Поэтому необходимо распарсить все данные и выделить только те, которые нам подходят."
   ]
  },
  {
   "cell_type": "code",
   "execution_count": 2,
   "metadata": {},
   "outputs": [
    {
     "name": "stdout",
     "output_type": "stream",
     "text": [
      "0m 48s (- 26m 23s)  —  3 %\n",
      "1m 43s (- 22m 55s)  —  7 %\n",
      "2m 50s (- 22m 57s)  —  11 %\n",
      "3m 51s (- 21m 53s)  —  15 %\n",
      "4m 50s (- 20m 38s)  —  19 %\n",
      "5m 54s (- 19m 46s)  —  23 %\n",
      "6m 55s (- 18m 44s)  —  27 %\n",
      "7m 45s (- 17m 15s)  —  31 %\n",
      "8m 49s (- 16m 24s)  —  35 %\n",
      "9m 43s (- 15m 51s)  —  38 %\n",
      "10m 37s (- 14m 39s)  —  42 %\n",
      "11m 38s (- 13m 39s)  —  46 %\n",
      "12m 42s (- 12m 42s)  —  50 %\n",
      "13m 29s (- 11m 29s)  —  54 %\n",
      "14m 13s (- 10m 18s)  —  58 %\n",
      "14m 58s (- 9m 10s)  —  62 %\n",
      "15m 45s (- 8m 6s)  —  66 %\n",
      "16m 32s (- 7m 5s)  —  70 %\n",
      "17m 14s (- 6m 22s)  —  73 %\n",
      "18m 13s (- 5m 26s)  —  77 %\n",
      "19m 14s (- 4m 30s)  —  81 %\n",
      "20m 7s (- 3m 33s)  —  85 %\n",
      "20m 59s (- 2m 35s)  —  89 %\n",
      "21m 45s (- 1m 38s)  —  93 %\n",
      "22m 40s (- 0m 42s)  —  97 %\n",
      "FINISHED\n",
      "\n",
      "Files: 2568\n",
      "Wrong files: 221\n"
     ]
    }
   ],
   "source": [
    "datadir = 'data/'\n",
    "correctdir = 'correct_data/'\n",
    "\n",
    "os.mkdir(correctdir)\n",
    "\n",
    "wrong = 0\n",
    "allF = 0\n",
    "\n",
    "start = time.time()\n",
    "\n",
    "for subdir, dirs, files in os.walk(datadir):\n",
    "    for file in files:\n",
    "        allF += 1\n",
    "        if allF % 100 == 0:\n",
    "            percent = allF*100 // len(files)\n",
    "            print(timeSince(start, percent / 100), ' — ', percent, '%')\n",
    "        tmpMIDI = mido.MidiFile(datadir + file)\n",
    "        count = 0\n",
    "        for x in tmpMIDI:\n",
    "            if x.type == 'note_off':\n",
    "                count = 1\n",
    "                break\n",
    "        if count == 0:\n",
    "            wrong += 1\n",
    "        else:\n",
    "            shutil.copy(datadir + file, correctdir + file)\n",
    "print(\"FINISHED\", end='\\n\\n')\n",
    "print('Files:', allF)\n",
    "print('Wrong files:', wrong)"
   ]
  }
 ],
 "metadata": {
  "kernelspec": {
   "display_name": "Python 3",
   "language": "python",
   "name": "python3"
  },
  "language_info": {
   "codemirror_mode": {
    "name": "ipython",
    "version": 3
   },
   "file_extension": ".py",
   "mimetype": "text/x-python",
   "name": "python",
   "nbconvert_exporter": "python",
   "pygments_lexer": "ipython3",
   "version": "3.6.3"
  }
 },
 "nbformat": 4,
 "nbformat_minor": 2
}
