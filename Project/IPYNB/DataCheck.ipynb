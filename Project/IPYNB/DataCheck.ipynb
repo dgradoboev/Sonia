{
 "cells": [
  {
   "cell_type": "code",
   "execution_count": 1,
   "metadata": {
    "collapsed": true
   },
   "outputs": [],
   "source": [
    "import mido\n",
    "import math\n",
    "import os\n",
    "import shutil\n",
    "import time\n",
    "from timerForParsing import timeSince"
   ]
  },
  {
   "cell_type": "markdown",
   "metadata": {},
   "source": [
    "Некоторые файлы имеют неправильный формат, не содержат note_off. Поэтому необходимо распарсить все данные и выделить только те, которые нам подходят."
   ]
  },
  {
   "cell_type": "code",
   "execution_count": 2,
   "metadata": {},
   "outputs": [
    {
     "name": "stdout",
     "output_type": "stream",
     "text": [
      "0m 47s (- 25m 30s)  —  3 %\n",
      "1m 36s (- 21m 20s)  —  7 %\n",
      "2m 38s (- 21m 18s)  —  11 %\n",
      "3m 32s (- 20m 3s)  —  15 %\n",
      "4m 24s (- 18m 47s)  —  19 %\n",
      "5m 21s (- 17m 57s)  —  23 %\n",
      "6m 18s (- 17m 3s)  —  27 %\n",
      "7m 3s (- 15m 42s)  —  31 %\n",
      "8m 2s (- 14m 56s)  —  35 %\n",
      "8m 52s (- 14m 28s)  —  38 %\n",
      "9m 44s (- 13m 26s)  —  42 %\n",
      "10m 43s (- 12m 35s)  —  46 %\n",
      "11m 44s (- 11m 44s)  —  50 %\n",
      "12m 30s (- 10m 39s)  —  54 %\n",
      "13m 12s (- 9m 33s)  —  58 %\n",
      "13m 53s (- 8m 30s)  —  62 %\n",
      "14m 38s (- 7m 32s)  —  66 %\n",
      "15m 22s (- 6m 35s)  —  70 %\n",
      "16m 4s (- 5m 56s)  —  73 %\n",
      "16m 59s (- 5m 4s)  —  77 %\n",
      "17m 57s (- 4m 12s)  —  81 %\n",
      "18m 49s (- 3m 19s)  —  85 %\n",
      "19m 36s (- 2m 25s)  —  89 %\n",
      "20m 20s (- 1m 31s)  —  93 %\n",
      "21m 9s (- 0m 39s)  —  97 %\n",
      "FINISHED\n",
      "\n",
      "Files: 2568\n",
      "Wrong files: 221\n"
     ]
    }
   ],
   "source": [
    "datadir = 'data/'\n",
    "correctdir = 'correct_data/'\n",
    "\n",
    "os.mkdir(correctdir)\n",
    "\n",
    "wrong = 0\n",
    "allF = 0\n",
    "\n",
    "start = time.time()\n",
    "\n",
    "for subdir, dirs, files in os.walk(datadir):\n",
    "    for file in files:\n",
    "        allF += 1\n",
    "        if allF % 100 == 0:\n",
    "            percent = allF*100 // len(files)\n",
    "            print(timeSince(start, percent / 100), ' — ', percent, '%')\n",
    "        tmpMIDI = mido.MidiFile(datadir + file)\n",
    "        count = 0\n",
    "        for x in tmpMIDI:\n",
    "            if x.type == 'note_off':\n",
    "                count = 1\n",
    "                break\n",
    "        if count == 0:\n",
    "            wrong += 1\n",
    "        else:\n",
    "            shutil.copy(datadir + file, correctdir + file)\n",
    "print(\"FINISHED\", end='\\n\\n')\n",
    "print('Files:', allF)\n",
    "print('Wrong files:', wrong)"
   ]
  },
  {
   "cell_type": "code",
   "execution_count": null,
   "metadata": {
    "collapsed": true
   },
   "outputs": [],
   "source": []
  }
 ],
 "metadata": {
  "kernelspec": {
   "display_name": "Python 3",
   "language": "python",
   "name": "python3"
  },
  "language_info": {
   "codemirror_mode": {
    "name": "ipython",
    "version": 3
   },
   "file_extension": ".py",
   "mimetype": "text/x-python",
   "name": "python",
   "nbconvert_exporter": "python",
   "pygments_lexer": "ipython3",
   "version": "3.6.3"
  }
 },
 "nbformat": 4,
 "nbformat_minor": 2
}
