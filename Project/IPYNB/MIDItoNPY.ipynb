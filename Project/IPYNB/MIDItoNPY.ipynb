{
 "cells": [
  {
   "cell_type": "code",
   "execution_count": 1,
   "metadata": {
    "collapsed": true
   },
   "outputs": [],
   "source": [
    "import math\n",
    "import mido\n",
    "import numpy as np\n",
    "import os\n",
    "import shutil\n",
    "import time\n",
    "from timerForParsing import timeSince"
   ]
  },
  {
   "cell_type": "code",
   "execution_count": 3,
   "metadata": {},
   "outputs": [],
   "source": [
    "datadir = 'correct_data/'\n",
    "npydir = 'npy_data/'\n",
    "\n",
    "os.mkdir(npydir)"
   ]
  },
  {
   "cell_type": "code",
   "execution_count": 4,
   "metadata": {
    "collapsed": true
   },
   "outputs": [],
   "source": [
    "evDict = {}\n",
    "c = 1;\n",
    "for i in range(1, 33):\n",
    "    evDict['V ' + str(i)] = c\n",
    "    c += 1\n",
    "for i in range(1, 129):\n",
    "    evDict['NON ' + str(i)] = c\n",
    "    c += 1\n",
    "for i in range(1, 129):\n",
    "    evDict['NOFF ' + str(i)] = c\n",
    "    c += 1\n",
    "for i in range(1, 126):\n",
    "    evDict['TS ' + str(i)] = c\n",
    "    c += 1"
   ]
  },
  {
   "cell_type": "code",
   "execution_count": 5,
   "metadata": {},
   "outputs": [
    {
     "name": "stdout",
     "output_type": "stream",
     "text": [
      "1m 5s (- 26m 5s)  —  4 %\n",
      "2m 27s (- 28m 18s)  —  8 %\n",
      "4m 3s (- 29m 46s)  —  12 %\n",
      "5m 20s (- 26m 5s)  —  17 %\n",
      "6m 41s (- 25m 9s)  —  21 %\n",
      "8m 11s (- 24m 34s)  —  25 %\n",
      "9m 27s (- 23m 8s)  —  29 %\n",
      "10m 57s (- 21m 15s)  —  34 %\n",
      "12m 16s (- 20m 1s)  —  38 %\n",
      "13m 35s (- 18m 45s)  —  42 %\n",
      "15m 10s (- 17m 48s)  —  46 %\n",
      "16m 42s (- 16m 2s)  —  51 %\n",
      "17m 49s (- 14m 35s)  —  55 %\n",
      "18m 48s (- 13m 4s)  —  59 %\n",
      "19m 57s (- 11m 43s)  —  63 %\n",
      "21m 16s (- 10m 0s)  —  68 %\n",
      "22m 11s (- 8m 37s)  —  72 %\n",
      "23m 38s (- 7m 28s)  —  76 %\n",
      "25m 8s (- 6m 17s)  —  80 %\n",
      "26m 36s (- 4m 41s)  —  85 %\n",
      "27m 55s (- 3m 27s)  —  89 %\n",
      "29m 12s (- 2m 11s)  —  93 %\n",
      "30m 28s (- 0m 56s)  —  97 %\n",
      "FINISHED\n",
      "\n",
      "SAVED\n"
     ]
    }
   ],
   "source": [
    "data = []\n",
    "count = 0\n",
    "\n",
    "start = time.time()\n",
    "\n",
    "for subdir, dirs, files in os.walk(datadir):\n",
    "    for file in files:\n",
    "        count += 1\n",
    "        if count % 100 == 0:\n",
    "            percent = count*100 // len(files)\n",
    "            print(timeSince(start, percent / 100), ' — ', percent, '%')\n",
    "        seq = []\n",
    "        MIDI = mido.MidiFile(datadir + file)\n",
    "        for s in MIDI:\n",
    "            if (s.type == 'note_on' and s.velocity > 3):\n",
    "                seq.append(evDict['V ' + str(round(s.velocity / 4))])\n",
    "                seq.append(evDict['NON ' + str(s.note)])\n",
    "                tmpTime = math.ceil(s.time * 125)\n",
    "                while (tmpTime > 125):\n",
    "                    seq.append(evDict['TS ' + str(125)])\n",
    "                    tmpTime -= 125\n",
    "                if (tmpTime != 0):\n",
    "                    seq.append(evDict['TS ' + str(tmpTime)])\n",
    "            if (s.type == 'note_off'):\n",
    "                seq.append(evDict['NOFF ' + str(s.note)])\n",
    "                tmpTime = math.ceil(s.time * 125)\n",
    "                while (tmpTime > 125):\n",
    "                    seq.append(evDict['TS ' + str(125)])\n",
    "                    tmpTime -= 125\n",
    "                if (tmpTime != 0):\n",
    "                    seq.append(evDict['TS ' + str(tmpTime)])\n",
    "        data.append(seq)\n",
    "print(\"FINISHED\", end='\\n\\n')\n",
    "np.save(npydir + 'NPYData.npy', np.asarray(data))\n",
    "print(\"SAVED\")"
   ]
  }
 ],
 "metadata": {
  "kernelspec": {
   "display_name": "Python 3",
   "language": "python",
   "name": "python3"
  },
  "language_info": {
   "codemirror_mode": {
    "name": "ipython",
    "version": 3
   },
   "file_extension": ".py",
   "mimetype": "text/x-python",
   "name": "python",
   "nbconvert_exporter": "python",
   "pygments_lexer": "ipython3",
   "version": "3.6.3"
  }
 },
 "nbformat": 4,
 "nbformat_minor": 2
}
