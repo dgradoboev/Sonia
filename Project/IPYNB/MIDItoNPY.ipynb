{
 "cells": [
  {
   "cell_type": "code",
   "execution_count": 1,
   "metadata": {
    "collapsed": true
   },
   "outputs": [],
   "source": [
    "import math\n",
    "import mido\n",
    "import numpy as np\n",
    "import os\n",
    "import shutil\n",
    "import time\n",
    "from timerForParsing import timeSince"
   ]
  },
  {
   "cell_type": "code",
   "execution_count": 2,
   "metadata": {
    "collapsed": true
   },
   "outputs": [],
   "source": [
    "datadir = 'correct_data/'\n",
    "npydir = 'npy_data/'\n",
    "\n",
    "os.mkdir(npydir)"
   ]
  },
  {
   "cell_type": "code",
   "execution_count": 3,
   "metadata": {
    "collapsed": true
   },
   "outputs": [],
   "source": [
    "evDict = {}\n",
    "c = 1;\n",
    "for i in range(0, 33):\n",
    "    evDict['set_velocity ' + str(i)] = c\n",
    "    c += 1\n",
    "for i in range(1, 129):\n",
    "    evDict['note_on ' + str(i)] = c\n",
    "    c += 1\n",
    "for i in range(1, 129):\n",
    "    evDict['note_off ' + str(i)] = c\n",
    "    c += 1\n",
    "for i in range(0, 126):\n",
    "    evDict['time_shift ' + str(i)] = c\n",
    "    c += 1"
   ]
  },
  {
   "cell_type": "code",
   "execution_count": 4,
   "metadata": {},
   "outputs": [
    {
     "name": "stdout",
     "output_type": "stream",
     "text": [
      "0m 58s (- 23m 33s)  —  4 %\n",
      "2m 15s (- 25m 57s)  —  8 %\n",
      "3m 41s (- 27m 5s)  —  12 %\n",
      "4m 50s (- 23m 36s)  —  17 %\n",
      "6m 4s (- 22m 50s)  —  21 %\n",
      "7m 29s (- 22m 29s)  —  25 %\n",
      "8m 39s (- 21m 12s)  —  29 %\n",
      "10m 5s (- 19m 36s)  —  34 %\n",
      "11m 20s (- 18m 29s)  —  38 %\n",
      "12m 37s (- 17m 25s)  —  42 %\n",
      "14m 8s (- 16m 36s)  —  46 %\n",
      "15m 37s (- 15m 1s)  —  51 %\n",
      "16m 42s (- 13m 40s)  —  55 %\n",
      "17m 38s (- 12m 15s)  —  59 %\n",
      "18m 44s (- 11m 0s)  —  63 %\n",
      "20m 1s (- 9m 25s)  —  68 %\n",
      "20m 54s (- 8m 7s)  —  72 %\n",
      "22m 20s (- 7m 3s)  —  76 %\n",
      "23m 52s (- 5m 58s)  —  80 %\n",
      "25m 17s (- 4m 27s)  —  85 %\n",
      "26m 33s (- 3m 16s)  —  89 %\n",
      "27m 48s (- 2m 5s)  —  93 %\n",
      "29m 4s (- 0m 53s)  —  97 %\n",
      "FINISHED\n",
      "\n",
      "SAVED\n"
     ]
    }
   ],
   "source": [
    "data = []\n",
    "count = 0\n",
    "\n",
    "start = time.time()\n",
    "\n",
    "for subdir, dirs, files in os.walk(datadir):\n",
    "    for file in files:\n",
    "        count += 1\n",
    "        if count % 100 == 0:\n",
    "            percent = count*100 // len(files)\n",
    "            print(timeSince(start, percent / 100), ' — ', percent, '%')\n",
    "        seq = []\n",
    "        MIDI = mido.MidiFile(datadir + file)\n",
    "        for s in MIDI:\n",
    "            if (s.type == 'note_on' or s.type == 'note_off'):\n",
    "                seq.append(evDict['set_velocity ' + str(round(s.velocity / 4))])\n",
    "                seq.append(evDict[s.type +' ' + str(s.note)])\n",
    "                tmpTime = math.ceil(s.time * 125)\n",
    "                while (tmpTime > 125):\n",
    "                    seq.append(evDict['time_shift ' + str(125)])\n",
    "                    tmpTime -= 125\n",
    "                if (tmpTime != 0):\n",
    "                    seq.append(evDict['time_shift ' + str(tmpTime)])\n",
    "        data.append(seq)\n",
    "print(\"FINISHED\", end='\\n\\n')\n",
    "np.save(npydir + 'NPYData.npy', np.asarray(data))\n",
    "print(\"SAVED\")"
   ]
  },
  {
   "cell_type": "code",
   "execution_count": null,
   "metadata": {
    "collapsed": true
   },
   "outputs": [],
   "source": []
  }
 ],
 "metadata": {
  "kernelspec": {
   "display_name": "Python 3",
   "language": "python",
   "name": "python3"
  },
  "language_info": {
   "codemirror_mode": {
    "name": "ipython",
    "version": 3
   },
   "file_extension": ".py",
   "mimetype": "text/x-python",
   "name": "python",
   "nbconvert_exporter": "python",
   "pygments_lexer": "ipython3",
   "version": "3.6.3"
  }
 },
 "nbformat": 4,
 "nbformat_minor": 2
}
