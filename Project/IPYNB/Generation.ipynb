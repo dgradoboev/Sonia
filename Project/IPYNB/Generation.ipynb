{
 "cells": [
  {
   "cell_type": "code",
   "execution_count": 1,
   "metadata": {
    "collapsed": true
   },
   "outputs": [],
   "source": [
    "import numpy as np\n",
    "import random\n",
    "import math\n",
    "import os\n",
    "import torch\n",
    "import torch.nn as nn\n",
    "import torch.optim as optim\n",
    "from torch.autograd import Variable\n",
    "import mido"
   ]
  },
  {
   "cell_type": "code",
   "execution_count": 2,
   "metadata": {},
   "outputs": [
    {
     "name": "stdout",
     "output_type": "stream",
     "text": [
      "cuda:0\n"
     ]
    }
   ],
   "source": [
    "device = torch.device(\"cuda:0\" if torch.cuda.is_available() else \"cpu\")\n",
    "torch.backends.cudnn.benchmark = True\n",
    "\n",
    "print(device)"
   ]
  },
  {
   "cell_type": "code",
   "execution_count": 3,
   "metadata": {
    "collapsed": true
   },
   "outputs": [],
   "source": [
    "class RNN(nn.Module):\n",
    "    def __init__(self, input_size, hidden_size, output_size, n_layers=1):\n",
    "        super(RNN, self).__init__()\n",
    "        self.input_size = input_size\n",
    "        self.hidden_size = hidden_size\n",
    "        self.output_size = output_size\n",
    "        self.n_layers = n_layers\n",
    "        \n",
    "        self.encoder = nn.Embedding(input_size, hidden_size)\n",
    "        self.gru = nn.GRU(hidden_size, hidden_size, n_layers, dropout=0.3)\n",
    "        self.decoder = nn.Linear(hidden_size, output_size)\n",
    "    \n",
    "    def forward(self, input, hidden):\n",
    "        input = self.encoder(input.view(1, -1))\n",
    "        output, hidden = self.gru(input.view(1, 1, -1), hidden)\n",
    "        output = self.decoder(output.view(1, -1))\n",
    "        return output, hidden\n",
    "\n",
    "    def init_hidden(self):\n",
    "        return Variable(torch.zeros(self.n_layers, 1, self.hidden_size)).to(device)"
   ]
  },
  {
   "cell_type": "code",
   "execution_count": 5,
   "metadata": {},
   "outputs": [
    {
     "data": {
      "text/plain": [
       "RNN(\n",
       "  (encoder): Embedding(416, 1500)\n",
       "  (gru): GRU(1500, 1500, num_layers=3, dropout=0.3)\n",
       "  (decoder): Linear(in_features=1500, out_features=416, bias=True)\n",
       ")"
      ]
     },
     "execution_count": 5,
     "metadata": {},
     "output_type": "execute_result"
    }
   ],
   "source": [
    "rnn = RNN(416, 1500, 416, 3).to(device)\n",
    "rnn.load_state_dict(torch.load(\"model.pt\"))\n",
    "rnn.eval()"
   ]
  },
  {
   "cell_type": "code",
   "execution_count": 6,
   "metadata": {
    "collapsed": true
   },
   "outputs": [],
   "source": [
    "def evaluate(beginning=[15], max_len=1000, temperature=0.8):\n",
    "    hidden = rnn.init_hidden()\n",
    "    start_input = Variable(torch.from_numpy(np.asarray(beginning)).long()).to(device)\n",
    "    predicted = beginning\n",
    "\n",
    "    for p in range(len(beginning) - 1):\n",
    "        _, hidden = rnn(start_input[p], hidden)\n",
    "    input = start_input[-1]\n",
    "    \n",
    "    for p in range(max_len):\n",
    "        output, hidden = rnn(input, hidden)\n",
    "\n",
    "        output_dist = output.data.view(-1).div(temperature).exp()\n",
    "        top_i = int(torch.multinomial(output_dist, 1)[0])\n",
    "\n",
    "        predicted.append(top_i)\n",
    "        input = Variable(torch.from_numpy(np.asarray([top_i])).long()).to(device)\n",
    "\n",
    "    return predicted"
   ]
  },
  {
   "cell_type": "code",
   "execution_count": 7,
   "metadata": {
    "collapsed": true
   },
   "outputs": [],
   "source": [
    "evDict = {}\n",
    "evDictBack = {}\n",
    "c = 1;\n",
    "for i in range(0, 33):\n",
    "    evDict['set_velocity ' + str(i)] = c\n",
    "    evDictBack[c] = 'set_velocity ' + str(i)\n",
    "    c += 1\n",
    "for i in range(1, 129):\n",
    "    evDict['note_on ' + str(i)] = c\n",
    "    evDictBack[c] = 'note_on ' + str(i)\n",
    "    c += 1\n",
    "for i in range(1, 129):\n",
    "    evDict['note_off ' + str(i)] = c\n",
    "    evDictBack[c] = 'note_off ' + str(i)\n",
    "    c += 1\n",
    "for i in range(0, 126):\n",
    "    evDict['time_shift ' + str(i)] = c\n",
    "    evDictBack[c] = 'time_shift ' + str(i)\n",
    "    c += 1"
   ]
  },
  {
   "cell_type": "code",
   "execution_count": 8,
   "metadata": {},
   "outputs": [
    {
     "name": "stdout",
     "output_type": "stream",
     "text": [
      "123456\n"
     ]
    }
   ],
   "source": [
    "seed = int(input())\n",
    "torch.manual_seed(seed)\n",
    "torch.cuda.manual_seed_all(seed)\n",
    "random.seed(seed)"
   ]
  },
  {
   "cell_type": "code",
   "execution_count": 9,
   "metadata": {},
   "outputs": [
    {
     "name": "stdout",
     "output_type": "stream",
     "text": [
      "song\n"
     ]
    }
   ],
   "source": [
    "PATH = input() + \".mid\"\n",
    "song = evaluate([random.randint(1, 400)], 1000, 0.6)\n",
    "mid = mido.MidiFile()\n",
    "track = mido.MidiTrack()\n",
    "mid.tracks.append(track)\n",
    "vel = 0\n",
    "note = 0\n",
    "m = \"\"\n",
    "for t in song:\n",
    "    tmp = evDictBack[t]\n",
    "    mode, c = tmp.split()\n",
    "    if mode == \"note_on\" or mode == \"note_off\":\n",
    "        note = int(c)\n",
    "        m = mode       \n",
    "    elif mode == \"set_velocity\":\n",
    "        vel = int(c)*4\n",
    "        if vel == 128:\n",
    "            vel = 127\n",
    "    elif mode == \"time_shift\" and m == \"note_on\" or m == \"note_off\":\n",
    "        tm = int(mido.second2tick(int(c)*8*4/1000, 384, 512820))\n",
    "        track.append(mido.Message(m, note=note, velocity=vel, time=tm))\n",
    "mid.save(PATH)"
   ]
  },
  {
   "cell_type": "code",
   "execution_count": null,
   "metadata": {
    "collapsed": true
   },
   "outputs": [],
   "source": []
  }
 ],
 "metadata": {
  "kernelspec": {
   "display_name": "Python 3",
   "language": "python",
   "name": "python3"
  },
  "language_info": {
   "codemirror_mode": {
    "name": "ipython",
    "version": 3
   },
   "file_extension": ".py",
   "mimetype": "text/x-python",
   "name": "python",
   "nbconvert_exporter": "python",
   "pygments_lexer": "ipython3",
   "version": "3.6.3"
  }
 },
 "nbformat": 4,
 "nbformat_minor": 2
}
